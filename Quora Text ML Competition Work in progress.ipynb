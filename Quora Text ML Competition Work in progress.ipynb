{
 "cells": [
  {
   "cell_type": "markdown",
   "metadata": {},
   "source": [
    "## Quora Insincere Questions Classification Competition\n",
    "https://www.kaggle.com/c/quora-insincere-questions-classification/data\n",
    "\n",
    "\n",
    "by Andrew Cho"
   ]
  },
  {
   "cell_type": "markdown",
   "metadata": {},
   "source": [
    "**Stage 1**"
   ]
  },
  {
   "cell_type": "code",
   "execution_count": 1,
   "metadata": {
    "scrolled": true
   },
   "outputs": [
    {
     "name": "stderr",
     "output_type": "stream",
     "text": [
      "C:\\Users\\Chopin\\Anaconda3\\lib\\site-packages\\sklearn\\cross_validation.py:41: DeprecationWarning: This module was deprecated in version 0.18 in favor of the model_selection module into which all the refactored classes and functions are moved. Also note that the interface of the new CV iterators are different from that of this module. This module will be removed in 0.20.\n",
      "  \"This module will be removed in 0.20.\", DeprecationWarning)\n"
     ]
    }
   ],
   "source": [
    "#load libraries \n",
    "import pandas as pd\n",
    "import numpy as np\n",
    "import matplotlib\n",
    "from IPython import display\n",
    "import warnings\n",
    "warnings.filterwarnings(\"ignore\")\n",
    "\n",
    "#visualization\n",
    "import matplotlib as mpl\n",
    "import matplotlib.pyplot as plt\n",
    "import matplotlib.pylab as pylab\n",
    "import seaborn as sns\n",
    "\n",
    "# modeling and scoring lib\n",
    "from sklearn.naive_bayes import MultinomialNB\n",
    "from sklearn import metrics, model_selection\n",
    "from sklearn.feature_extraction.text import CountVectorizer, TfidfVectorizer\n",
    "from sklearn.cross_validation import train_test_split\n"
   ]
  },
  {
   "cell_type": "code",
   "execution_count": 2,
   "metadata": {},
   "outputs": [],
   "source": [
    "#common model algos\n",
    "from sklearn import svm, tree, linear_model, neighbors, naive_bayes, ensemble, discriminant_analysis, gaussian_process\n",
    "from xgboost import XGBClassifier\n",
    "import lightgbm as lgb"
   ]
  },
  {
   "cell_type": "markdown",
   "metadata": {},
   "source": [
    "## Meet the Data!"
   ]
  },
  {
   "cell_type": "code",
   "execution_count": 3,
   "metadata": {},
   "outputs": [],
   "source": [
    "path ='../Quora/'\n",
    "train = pd.read_csv(path+'train.csv', sep=',')\n",
    "test = pd.read_csv(path+'test.csv', sep=',')\n",
    "sample_sub = pd.read_csv(path+'sample_submission.csv', sep=',')"
   ]
  },
  {
   "cell_type": "code",
   "execution_count": 4,
   "metadata": {
    "scrolled": false
   },
   "outputs": [
    {
     "data": {
      "text/plain": [
       "<matplotlib.axes._subplots.AxesSubplot at 0x2261cee37f0>"
      ]
     },
     "execution_count": 4,
     "metadata": {},
     "output_type": "execute_result"
    },
    {
     "data": {
      "image/png": "[encoded data removed]",
      "text/plain": [
       "<matplotlib.figure.Figure at 0x226147eec18>"
      ]
     },
     "metadata": {},
     "output_type": "display_data"
    }
   ],
   "source": [
    "train.target.value_counts().plot(kind='bar')\n"
   ]
  },
  {
   "cell_type": "code",
   "execution_count": 5,
   "metadata": {
    "scrolled": true
   },
   "outputs": [
    {
     "data": {
      "text/plain": [
       "1306122"
      ]
     },
     "execution_count": 5,
     "metadata": {},
     "output_type": "execute_result"
    }
   ],
   "source": [
    "train.shape[0]"
   ]
  },
  {
   "cell_type": "code",
   "execution_count": 6,
   "metadata": {
    "scrolled": false
   },
   "outputs": [
    {
     "data": {
      "text/plain": [
       "0    0.93813\n",
       "1    0.06187\n",
       "Name: target, dtype: float64"
      ]
     },
     "execution_count": 6,
     "metadata": {},
     "output_type": "execute_result"
    }
   ],
   "source": [
    "train.target.value_counts()/train.shape[0]"
   ]
  },
  {
   "cell_type": "markdown",
   "metadata": {},
   "source": [
    "*About 6.2% of the questions are insincere. According to the competition insincere questions have the following characteristics: *\n",
    "\n",
    "**An insincere question is defined as a question intended to make a statement rather than look for helpful answers. Some characteristics that can signify that a question is insincere:**\n",
    "\n",
    "- Has a non-neutral tone\n",
    "- Has an exaggerated tone to underscore a point about a group of people\n",
    "- Is rhetorical and meant to imply a statement about a group of people\n",
    "- Is disparaging or inflammatory\n",
    "- Suggests a discriminatory idea against a protected class of people, or seeks confirmation of a stereotype\n",
    "- Makes disparaging attacks/insults against a specific person or group of people\n",
    "- Based on an outlandish premise about a group of people\n",
    "- Disparages against a characteristic that is not fixable and not measurable\n",
    "- Isn't grounded in reality\n",
    "- Based on false information, or contains absurd assumptions\n",
    "- Uses sexual content (incest, bestiality, pedophilia) for shock value, and not to seek genuine answers\n",
    "- The training data includes the question that was asked, and whether it was identified as insincere (target = 1). The ground-truth labels contain some amount of noise: they are not guaranteed to be perfect.\n"
   ]
  },
  {
   "cell_type": "markdown",
   "metadata": {},
   "source": [
    "**Sample insincere questions**"
   ]
  },
  {
   "cell_type": "code",
   "execution_count": 7,
   "metadata": {
    "scrolled": true
   },
   "outputs": [
    {
     "data": {
      "text/html": [
       "<div>\n",
       "<style scoped>\n",
       "    .dataframe tbody tr th:only-of-type {\n",
       "        vertical-align: middle;\n",
       "    }\n",
       "\n",
       "    .dataframe tbody tr th {\n",
       "        vertical-align: top;\n",
       "    }\n",
       "\n",
       "    .dataframe thead th {\n",
       "        text-align: right;\n",
       "    }\n",
       "</style>\n",
       "<table border=\"1\" class=\"dataframe\">\n",
       "  <thead>\n",
       "    <tr style=\"text-align: right;\">\n",
       "      <th></th>\n",
       "      <th>qid</th>\n",
       "      <th>question_text</th>\n",
       "      <th>target</th>\n",
       "    </tr>\n",
       "  </thead>\n",
       "  <tbody>\n",
       "    <tr>\n",
       "      <th>979327</th>\n",
       "      <td>bfdb4625a57d2bd796ed</td>\n",
       "      <td>Why is an unmarked dump ready for the ashes of...</td>\n",
       "      <td>1</td>\n",
       "    </tr>\n",
       "    <tr>\n",
       "      <th>306763</th>\n",
       "      <td>3c164ffee0735bdc5a07</td>\n",
       "      <td>Why everybody support the Jewish reclamation o...</td>\n",
       "      <td>1</td>\n",
       "    </tr>\n",
       "    <tr>\n",
       "      <th>929513</th>\n",
       "      <td>b629707a417625723338</td>\n",
       "      <td>I don’t remember signing up for this. Am I in ...</td>\n",
       "      <td>1</td>\n",
       "    </tr>\n",
       "    <tr>\n",
       "      <th>529092</th>\n",
       "      <td>6798297a09c0a7738181</td>\n",
       "      <td>How do you punish someone for being depressed?</td>\n",
       "      <td>1</td>\n",
       "    </tr>\n",
       "    <tr>\n",
       "      <th>1054775</th>\n",
       "      <td>ceb0b63985569c2683c1</td>\n",
       "      <td>Why does gay excel keep rounding numbers?</td>\n",
       "      <td>1</td>\n",
       "    </tr>\n",
       "    <tr>\n",
       "      <th>454278</th>\n",
       "      <td>58fe2b048cfb31e9aae3</td>\n",
       "      <td>Why do not most men today bully their daughter...</td>\n",
       "      <td>1</td>\n",
       "    </tr>\n",
       "    <tr>\n",
       "      <th>472444</th>\n",
       "      <td>5c82c451a02181eabb5f</td>\n",
       "      <td>Why do Hindus treat Dalits with such disdain?</td>\n",
       "      <td>1</td>\n",
       "    </tr>\n",
       "    <tr>\n",
       "      <th>145282</th>\n",
       "      <td>1c6ca62c122f77289ea7</td>\n",
       "      <td>What are your views on the situation where a m...</td>\n",
       "      <td>1</td>\n",
       "    </tr>\n",
       "    <tr>\n",
       "      <th>631709</th>\n",
       "      <td>7bb53b18cd53708a1295</td>\n",
       "      <td>Muhammad spoke to his dinner roasted lamb whic...</td>\n",
       "      <td>1</td>\n",
       "    </tr>\n",
       "    <tr>\n",
       "      <th>192468</th>\n",
       "      <td>259ea8d3500c30f437c4</td>\n",
       "      <td>Can a gorilla breed with a white human woman?</td>\n",
       "      <td>1</td>\n",
       "    </tr>\n",
       "    <tr>\n",
       "      <th>363044</th>\n",
       "      <td>47288acfebca998b9cb1</td>\n",
       "      <td>Why do European women have better bodies and l...</td>\n",
       "      <td>1</td>\n",
       "    </tr>\n",
       "    <tr>\n",
       "      <th>782190</th>\n",
       "      <td>9939796d5d7178296a51</td>\n",
       "      <td>Do Democrats actually find that Emma Gonzalez ...</td>\n",
       "      <td>1</td>\n",
       "    </tr>\n",
       "    <tr>\n",
       "      <th>1146399</th>\n",
       "      <td>e09e9a965aaf3f33be09</td>\n",
       "      <td>Modi is a puppet, but whoose?</td>\n",
       "      <td>1</td>\n",
       "    </tr>\n",
       "    <tr>\n",
       "      <th>1223030</th>\n",
       "      <td>efb2d03e08b33c028ea7</td>\n",
       "      <td>How do I make a straight girl turn into LGBT?</td>\n",
       "      <td>1</td>\n",
       "    </tr>\n",
       "    <tr>\n",
       "      <th>919389</th>\n",
       "      <td>b42a2ac4754a953005d0</td>\n",
       "      <td>Do you agree with Chiang’s assessment of the C...</td>\n",
       "      <td>1</td>\n",
       "    </tr>\n",
       "    <tr>\n",
       "      <th>379368</th>\n",
       "      <td>4a5cb79f61eaa1f3784f</td>\n",
       "      <td>Is the ideology of Trump's base simply a nihil...</td>\n",
       "      <td>1</td>\n",
       "    </tr>\n",
       "    <tr>\n",
       "      <th>830862</th>\n",
       "      <td>a2d333df260a09a0e54a</td>\n",
       "      <td>Why do Muslims feel inadequate?</td>\n",
       "      <td>1</td>\n",
       "    </tr>\n",
       "    <tr>\n",
       "      <th>220995</th>\n",
       "      <td>2b3d3c257289fec30afd</td>\n",
       "      <td>Why does Quora autocorrect the word “is” as “I...</td>\n",
       "      <td>1</td>\n",
       "    </tr>\n",
       "    <tr>\n",
       "      <th>26631</th>\n",
       "      <td>053749f624b22ab999ad</td>\n",
       "      <td>Do middle East Muslims respect Indian Muslims?</td>\n",
       "      <td>1</td>\n",
       "    </tr>\n",
       "    <tr>\n",
       "      <th>1070012</th>\n",
       "      <td>d1ac249ecf6b90be169e</td>\n",
       "      <td>What do you think of a CBP officer, when asked...</td>\n",
       "      <td>1</td>\n",
       "    </tr>\n",
       "    <tr>\n",
       "      <th>1031432</th>\n",
       "      <td>ca1ca96dcfced31493e1</td>\n",
       "      <td>Why don't most people discuss/point out the Na...</td>\n",
       "      <td>1</td>\n",
       "    </tr>\n",
       "    <tr>\n",
       "      <th>638529</th>\n",
       "      <td>7d117947978de6a28ada</td>\n",
       "      <td>Is there anything good left about Russians? Ar...</td>\n",
       "      <td>1</td>\n",
       "    </tr>\n",
       "    <tr>\n",
       "      <th>223697</th>\n",
       "      <td>2bbf2092e871d4105e87</td>\n",
       "      <td>Why do Chinese like to remain animals alive af...</td>\n",
       "      <td>1</td>\n",
       "    </tr>\n",
       "    <tr>\n",
       "      <th>1017741</th>\n",
       "      <td>c76f0dc8d2d40fe01182</td>\n",
       "      <td>Has Britain ordered its Ayatollahs to destroy ...</td>\n",
       "      <td>1</td>\n",
       "    </tr>\n",
       "    <tr>\n",
       "      <th>700913</th>\n",
       "      <td>893dc3006a0df426f412</td>\n",
       "      <td>Do South Indians hate North Indians only, or M...</td>\n",
       "      <td>1</td>\n",
       "    </tr>\n",
       "    <tr>\n",
       "      <th>726020</th>\n",
       "      <td>8e273eb392bdd2f7f5f1</td>\n",
       "      <td>Why do the French complain all the time?</td>\n",
       "      <td>1</td>\n",
       "    </tr>\n",
       "    <tr>\n",
       "      <th>619520</th>\n",
       "      <td>7952214100ece64fa30b</td>\n",
       "      <td>How do I beat the autism out of my son?</td>\n",
       "      <td>1</td>\n",
       "    </tr>\n",
       "    <tr>\n",
       "      <th>1212766</th>\n",
       "      <td>edb12839c10dbc2fcb3c</td>\n",
       "      <td>Why do gay people talk with lisps?</td>\n",
       "      <td>1</td>\n",
       "    </tr>\n",
       "    <tr>\n",
       "      <th>97291</th>\n",
       "      <td>130a071744811223628b</td>\n",
       "      <td>As an Israeli, how well are you aware of the o...</td>\n",
       "      <td>1</td>\n",
       "    </tr>\n",
       "    <tr>\n",
       "      <th>549773</th>\n",
       "      <td>6bb56d2294bd29b8824a</td>\n",
       "      <td>Why is a country called USA trying to create m...</td>\n",
       "      <td>1</td>\n",
       "    </tr>\n",
       "    <tr>\n",
       "      <th>...</th>\n",
       "      <td>...</td>\n",
       "      <td>...</td>\n",
       "      <td>...</td>\n",
       "    </tr>\n",
       "    <tr>\n",
       "      <th>1049147</th>\n",
       "      <td>cd92dc4f9e9d8ba44fd8</td>\n",
       "      <td>Why can't we create electric swimming pools to...</td>\n",
       "      <td>1</td>\n",
       "    </tr>\n",
       "    <tr>\n",
       "      <th>707023</th>\n",
       "      <td>8a70e8535b03fdac90c2</td>\n",
       "      <td>How do I ask a girl if I can finger her?</td>\n",
       "      <td>1</td>\n",
       "    </tr>\n",
       "    <tr>\n",
       "      <th>1157492</th>\n",
       "      <td>e2cc207d284d065937bf</td>\n",
       "      <td>Why does FYROM steal Bulgarian and Greek History?</td>\n",
       "      <td>1</td>\n",
       "    </tr>\n",
       "    <tr>\n",
       "      <th>1287811</th>\n",
       "      <td>fc620a4a9f7ccbebee87</td>\n",
       "      <td>Why do Americans hate Marxism so much when mos...</td>\n",
       "      <td>1</td>\n",
       "    </tr>\n",
       "    <tr>\n",
       "      <th>370440</th>\n",
       "      <td>48a27feee986804fe1f1</td>\n",
       "      <td>What race/religion has the fewest gays?</td>\n",
       "      <td>1</td>\n",
       "    </tr>\n",
       "    <tr>\n",
       "      <th>820527</th>\n",
       "      <td>a0c7bb8ce2b85ba9595c</td>\n",
       "      <td>What connection if any does Donald Trump have ...</td>\n",
       "      <td>1</td>\n",
       "    </tr>\n",
       "    <tr>\n",
       "      <th>971870</th>\n",
       "      <td>be66fb4e0e5527be0fdb</td>\n",
       "      <td>Why do you think Indian people cannot speak En...</td>\n",
       "      <td>1</td>\n",
       "    </tr>\n",
       "    <tr>\n",
       "      <th>1254018</th>\n",
       "      <td>f5be367651e983756760</td>\n",
       "      <td>I may be \"old-fashioned\" but is it really a go...</td>\n",
       "      <td>1</td>\n",
       "    </tr>\n",
       "    <tr>\n",
       "      <th>777923</th>\n",
       "      <td>9860cf32c078b5ce3edc</td>\n",
       "      <td>Why do Democrats respond to any challenge to t...</td>\n",
       "      <td>1</td>\n",
       "    </tr>\n",
       "    <tr>\n",
       "      <th>1285854</th>\n",
       "      <td>fbffde9605fdbea67089</td>\n",
       "      <td>Why do some Pakistani males, though apparently...</td>\n",
       "      <td>1</td>\n",
       "    </tr>\n",
       "    <tr>\n",
       "      <th>911105</th>\n",
       "      <td>b2891eee8d07c4b27359</td>\n",
       "      <td>Why do Tunisia and other North African countri...</td>\n",
       "      <td>1</td>\n",
       "    </tr>\n",
       "    <tr>\n",
       "      <th>207494</th>\n",
       "      <td>2893b37fb4f90c3f85d5</td>\n",
       "      <td>How often do liberals beat their spouses?</td>\n",
       "      <td>1</td>\n",
       "    </tr>\n",
       "    <tr>\n",
       "      <th>583263</th>\n",
       "      <td>7246c68a281fea9e29ab</td>\n",
       "      <td>Are there any reports of bodies recovered from...</td>\n",
       "      <td>1</td>\n",
       "    </tr>\n",
       "    <tr>\n",
       "      <th>1139923</th>\n",
       "      <td>df60bacfd40cc0eef1ab</td>\n",
       "      <td>Is Virat Kohli the most uncivilized and unprof...</td>\n",
       "      <td>1</td>\n",
       "    </tr>\n",
       "    <tr>\n",
       "      <th>276469</th>\n",
       "      <td>361a7472a0943d25fa60</td>\n",
       "      <td>Why are people of Ajmer illiterate even after ...</td>\n",
       "      <td>1</td>\n",
       "    </tr>\n",
       "    <tr>\n",
       "      <th>859816</th>\n",
       "      <td>a875162261c0f3674c07</td>\n",
       "      <td>Why were Mongolians unsuccessful in battling a...</td>\n",
       "      <td>1</td>\n",
       "    </tr>\n",
       "    <tr>\n",
       "      <th>335877</th>\n",
       "      <td>41cff39b310aa5b68652</td>\n",
       "      <td>Why women are not taking risks of entrepreneur...</td>\n",
       "      <td>1</td>\n",
       "    </tr>\n",
       "    <tr>\n",
       "      <th>1212912</th>\n",
       "      <td>edb830b64b17ebcb2b48</td>\n",
       "      <td>Do liberal socialists realise their ideology p...</td>\n",
       "      <td>1</td>\n",
       "    </tr>\n",
       "    <tr>\n",
       "      <th>132622</th>\n",
       "      <td>19f5061a189ee6ad4300</td>\n",
       "      <td>Why does the democratic US keep on shooting at...</td>\n",
       "      <td>1</td>\n",
       "    </tr>\n",
       "    <tr>\n",
       "      <th>769926</th>\n",
       "      <td>96d91b261022cc6497f1</td>\n",
       "      <td>Why do people look down on tomboys?</td>\n",
       "      <td>1</td>\n",
       "    </tr>\n",
       "    <tr>\n",
       "      <th>1162272</th>\n",
       "      <td>e3bbc39f8e149aa37eef</td>\n",
       "      <td>Did Krishna have sex with different Gopis?</td>\n",
       "      <td>1</td>\n",
       "    </tr>\n",
       "    <tr>\n",
       "      <th>176658</th>\n",
       "      <td>228885a21c3b10cbce91</td>\n",
       "      <td>Can you suck the shit out mine bootiy whole?</td>\n",
       "      <td>1</td>\n",
       "    </tr>\n",
       "    <tr>\n",
       "      <th>495127</th>\n",
       "      <td>60f406ab8b8e789bbed2</td>\n",
       "      <td>Are women from Nigeria, Ghana, and Kenya mainl...</td>\n",
       "      <td>1</td>\n",
       "    </tr>\n",
       "    <tr>\n",
       "      <th>226234</th>\n",
       "      <td>2c3ccbfd4d328d1f81d9</td>\n",
       "      <td>Is there a way to test a human body to see if ...</td>\n",
       "      <td>1</td>\n",
       "    </tr>\n",
       "    <tr>\n",
       "      <th>1275188</th>\n",
       "      <td>f9e64c1a13a4499e506b</td>\n",
       "      <td>The USA might not be happy with Pakistan, but ...</td>\n",
       "      <td>1</td>\n",
       "    </tr>\n",
       "    <tr>\n",
       "      <th>1045309</th>\n",
       "      <td>ccd5dd9de879416f6bb9</td>\n",
       "      <td>Why does Gen Y have bad music?</td>\n",
       "      <td>1</td>\n",
       "    </tr>\n",
       "    <tr>\n",
       "      <th>14746</th>\n",
       "      <td>02e63733166c38bac4d2</td>\n",
       "      <td>Why are fraternities hotbeds of drunken debauc...</td>\n",
       "      <td>1</td>\n",
       "    </tr>\n",
       "    <tr>\n",
       "      <th>1153881</th>\n",
       "      <td>e216456a79534c157f97</td>\n",
       "      <td>Why doesn’t Trump understand that nuclear weap...</td>\n",
       "      <td>1</td>\n",
       "    </tr>\n",
       "    <tr>\n",
       "      <th>152044</th>\n",
       "      <td>1dbd86c17e7869ef5141</td>\n",
       "      <td>Would it be impolite to call the Chinese liars...</td>\n",
       "      <td>1</td>\n",
       "    </tr>\n",
       "    <tr>\n",
       "      <th>145874</th>\n",
       "      <td>1c89a6340ecabeb15174</td>\n",
       "      <td>I am from Jammu Kashmir and we want freedom fr...</td>\n",
       "      <td>1</td>\n",
       "    </tr>\n",
       "  </tbody>\n",
       "</table>\n",
       "<p>100 rows × 3 columns</p>\n",
       "</div>"
      ],
      "text/plain": [
       "                          qid  \\\n",
       "979327   bfdb4625a57d2bd796ed   \n",
       "306763   3c164ffee0735bdc5a07   \n",
       "929513   b629707a417625723338   \n",
       "529092   6798297a09c0a7738181   \n",
       "1054775  ceb0b63985569c2683c1   \n",
       "454278   58fe2b048cfb31e9aae3   \n",
       "472444   5c82c451a02181eabb5f   \n",
       "145282   1c6ca62c122f77289ea7   \n",
       "631709   7bb53b18cd53708a1295   \n",
       "192468   259ea8d3500c30f437c4   \n",
       "363044   47288acfebca998b9cb1   \n",
       "782190   9939796d5d7178296a51   \n",
       "1146399  e09e9a965aaf3f33be09   \n",
       "1223030  efb2d03e08b33c028ea7   \n",
       "919389   b42a2ac4754a953005d0   \n",
       "379368   4a5cb79f61eaa1f3784f   \n",
       "830862   a2d333df260a09a0e54a   \n",
       "220995   2b3d3c257289fec30afd   \n",
       "26631    053749f624b22ab999ad   \n",
       "1070012  d1ac249ecf6b90be169e   \n",
       "1031432  ca1ca96dcfced31493e1   \n",
       "638529   7d117947978de6a28ada   \n",
       "223697   2bbf2092e871d4105e87   \n",
       "1017741  c76f0dc8d2d40fe01182   \n",
       "700913   893dc3006a0df426f412   \n",
       "726020   8e273eb392bdd2f7f5f1   \n",
       "619520   7952214100ece64fa30b   \n",
       "1212766  edb12839c10dbc2fcb3c   \n",
       "97291    130a071744811223628b   \n",
       "549773   6bb56d2294bd29b8824a   \n",
       "...                       ...   \n",
       "1049147  cd92dc4f9e9d8ba44fd8   \n",
       "707023   8a70e8535b03fdac90c2   \n",
       "1157492  e2cc207d284d065937bf   \n",
       "1287811  fc620a4a9f7ccbebee87   \n",
       "370440   48a27feee986804fe1f1   \n",
       "820527   a0c7bb8ce2b85ba9595c   \n",
       "971870   be66fb4e0e5527be0fdb   \n",
       "1254018  f5be367651e983756760   \n",
       "777923   9860cf32c078b5ce3edc   \n",
       "1285854  fbffde9605fdbea67089   \n",
       "911105   b2891eee8d07c4b27359   \n",
       "207494   2893b37fb4f90c3f85d5   \n",
       "583263   7246c68a281fea9e29ab   \n",
       "1139923  df60bacfd40cc0eef1ab   \n",
       "276469   361a7472a0943d25fa60   \n",
       "859816   a875162261c0f3674c07   \n",
       "335877   41cff39b310aa5b68652   \n",
       "1212912  edb830b64b17ebcb2b48   \n",
       "132622   19f5061a189ee6ad4300   \n",
       "769926   96d91b261022cc6497f1   \n",
       "1162272  e3bbc39f8e149aa37eef   \n",
       "176658   228885a21c3b10cbce91   \n",
       "495127   60f406ab8b8e789bbed2   \n",
       "226234   2c3ccbfd4d328d1f81d9   \n",
       "1275188  f9e64c1a13a4499e506b   \n",
       "1045309  ccd5dd9de879416f6bb9   \n",
       "14746    02e63733166c38bac4d2   \n",
       "1153881  e216456a79534c157f97   \n",
       "152044   1dbd86c17e7869ef5141   \n",
       "145874   1c89a6340ecabeb15174   \n",
       "\n",
       "                                             question_text  target  \n",
       "979327   Why is an unmarked dump ready for the ashes of...       1  \n",
       "306763   Why everybody support the Jewish reclamation o...       1  \n",
       "929513   I don’t remember signing up for this. Am I in ...       1  \n",
       "529092      How do you punish someone for being depressed?       1  \n",
       "1054775          Why does gay excel keep rounding numbers?       1  \n",
       "454278   Why do not most men today bully their daughter...       1  \n",
       "472444       Why do Hindus treat Dalits with such disdain?       1  \n",
       "145282   What are your views on the situation where a m...       1  \n",
       "631709   Muhammad spoke to his dinner roasted lamb whic...       1  \n",
       "192468       Can a gorilla breed with a white human woman?       1  \n",
       "363044   Why do European women have better bodies and l...       1  \n",
       "782190   Do Democrats actually find that Emma Gonzalez ...       1  \n",
       "1146399                      Modi is a puppet, but whoose?       1  \n",
       "1223030      How do I make a straight girl turn into LGBT?       1  \n",
       "919389   Do you agree with Chiang’s assessment of the C...       1  \n",
       "379368   Is the ideology of Trump's base simply a nihil...       1  \n",
       "830862                     Why do Muslims feel inadequate?       1  \n",
       "220995   Why does Quora autocorrect the word “is” as “I...       1  \n",
       "26631       Do middle East Muslims respect Indian Muslims?       1  \n",
       "1070012  What do you think of a CBP officer, when asked...       1  \n",
       "1031432  Why don't most people discuss/point out the Na...       1  \n",
       "638529   Is there anything good left about Russians? Ar...       1  \n",
       "223697   Why do Chinese like to remain animals alive af...       1  \n",
       "1017741  Has Britain ordered its Ayatollahs to destroy ...       1  \n",
       "700913   Do South Indians hate North Indians only, or M...       1  \n",
       "726020            Why do the French complain all the time?       1  \n",
       "619520             How do I beat the autism out of my son?       1  \n",
       "1212766                 Why do gay people talk with lisps?       1  \n",
       "97291    As an Israeli, how well are you aware of the o...       1  \n",
       "549773   Why is a country called USA trying to create m...       1  \n",
       "...                                                    ...     ...  \n",
       "1049147  Why can't we create electric swimming pools to...       1  \n",
       "707023            How do I ask a girl if I can finger her?       1  \n",
       "1157492  Why does FYROM steal Bulgarian and Greek History?       1  \n",
       "1287811  Why do Americans hate Marxism so much when mos...       1  \n",
       "370440             What race/religion has the fewest gays?       1  \n",
       "820527   What connection if any does Donald Trump have ...       1  \n",
       "971870   Why do you think Indian people cannot speak En...       1  \n",
       "1254018  I may be \"old-fashioned\" but is it really a go...       1  \n",
       "777923   Why do Democrats respond to any challenge to t...       1  \n",
       "1285854  Why do some Pakistani males, though apparently...       1  \n",
       "911105   Why do Tunisia and other North African countri...       1  \n",
       "207494           How often do liberals beat their spouses?       1  \n",
       "583263   Are there any reports of bodies recovered from...       1  \n",
       "1139923  Is Virat Kohli the most uncivilized and unprof...       1  \n",
       "276469   Why are people of Ajmer illiterate even after ...       1  \n",
       "859816   Why were Mongolians unsuccessful in battling a...       1  \n",
       "335877   Why women are not taking risks of entrepreneur...       1  \n",
       "1212912  Do liberal socialists realise their ideology p...       1  \n",
       "132622   Why does the democratic US keep on shooting at...       1  \n",
       "769926                 Why do people look down on tomboys?       1  \n",
       "1162272         Did Krishna have sex with different Gopis?       1  \n",
       "176658        Can you suck the shit out mine bootiy whole?       1  \n",
       "495127   Are women from Nigeria, Ghana, and Kenya mainl...       1  \n",
       "226234   Is there a way to test a human body to see if ...       1  \n",
       "1275188  The USA might not be happy with Pakistan, but ...       1  \n",
       "1045309                     Why does Gen Y have bad music?       1  \n",
       "14746    Why are fraternities hotbeds of drunken debauc...       1  \n",
       "1153881  Why doesn’t Trump understand that nuclear weap...       1  \n",
       "152044   Would it be impolite to call the Chinese liars...       1  \n",
       "145874   I am from Jammu Kashmir and we want freedom fr...       1  \n",
       "\n",
       "[100 rows x 3 columns]"
      ]
     },
     "execution_count": 7,
     "metadata": {},
     "output_type": "execute_result"
    }
   ],
   "source": [
    "train.loc[train.target == 1,:].sample(100)"
   ]
  },
  {
   "cell_type": "markdown",
   "metadata": {},
   "source": [
    "## Modeling: Data Prepreation"
   ]
  },
  {
   "cell_type": "code",
   "execution_count": 8,
   "metadata": {},
   "outputs": [
    {
     "name": "stdout",
     "output_type": "stream",
     "text": [
      "-------------------------\n",
      "(979591,)\n",
      "(326531,)\n",
      "(979591,)\n",
      "(326531,)\n"
     ]
    }
   ],
   "source": [
    "X = train['question_text']\n",
    "y = train['target']\n",
    "X_train, X_test, y_train, y_test = train_test_split(X, y, random_state=3)\n",
    "print('-'*25)\n",
    "print(X_train.shape)\n",
    "print(X_test.shape)\n",
    "print(y_train.shape)\n",
    "print(y_test.shape)"
   ]
  },
  {
   "cell_type": "code",
   "execution_count": 9,
   "metadata": {
    "scrolled": false
   },
   "outputs": [],
   "source": [
    "#crate a vectorizer \n",
    "vect = CountVectorizer()\n",
    "\n",
    "X_train_dtm = vect.fit_transform(X_train)\n",
    "#learn the vocab of the training data and transform them into a document term matrix\n",
    "X_test_dtm = vect.transform(X_test)\n",
    "#fit it in the X_test data set"
   ]
  },
  {
   "cell_type": "code",
   "execution_count": null,
   "metadata": {},
   "outputs": [],
   "source": []
  },
  {
   "cell_type": "code",
   "execution_count": null,
   "metadata": {},
   "outputs": [],
   "source": []
  },
  {
   "cell_type": "code",
   "execution_count": null,
   "metadata": {},
   "outputs": [],
   "source": []
  },
  {
   "cell_type": "code",
   "execution_count": null,
   "metadata": {},
   "outputs": [],
   "source": []
  },
  {
   "cell_type": "markdown",
   "metadata": {},
   "source": [
    "## Modeling: Benchmark Score of Naive Bayes"
   ]
  },
  {
   "cell_type": "code",
   "execution_count": 10,
   "metadata": {
    "scrolled": true
   },
   "outputs": [],
   "source": [
    "#running a basic model on Naive bayes and param tuning.\n",
    "def token_test(vect):\n",
    "    X_train_dtm = vect.fit_transform(X_train)\n",
    "    #learn the vocab of the training data and transform them into a document term matrix\n",
    "    X_test_dtm = vect.transform(X_test)\n",
    "    print('Features Count: ', X_train_dtm.shape[1])\n",
    "    \n",
    "    nb = MultinomialNB()\n",
    "    #fit the model\n",
    "    nb.fit(X_train_dtm, y_train)\n",
    "    #prediction from the classification\n",
    "    y_pred = nb.predict(X_test_dtm)\n",
    "    print('Score in F1:', '%.2f'%metrics.f1_score(y_test, y_pred))\n",
    "    print('false positives-----')\n",
    "    print(X_test[y_test<y_pred][:5])\n",
    "\n",
    "    print('\\nfalse negatives-----')\n",
    "    print(X_test[y_test>y_pred][:5])"
   ]
  },
  {
   "cell_type": "code",
   "execution_count": 11,
   "metadata": {},
   "outputs": [
    {
     "name": "stdout",
     "output_type": "stream",
     "text": [
      "Features Count:  167362\n",
      "Score in F1: 0.56\n",
      "false positives-----\n",
      "1101293    As a transgender teenager, are you discriminat...\n",
      "1229324    Why are so many people rejecting global cooper...\n",
      "884880     Why did Russia and China refuse to veto the in...\n",
      "23106                    Why do liberals hate heterosexuals?\n",
      "867201     Are all the random pro-Trump \"Questions\" actua...\n",
      "Name: question_text, dtype: object\n",
      "\n",
      "false negatives-----\n",
      "762142     Would believe that wrote tO gov CUOMO THAT HE ...\n",
      "581912     Why is the U.N. ignoring Iceland’s Down syndro...\n",
      "1254445    Aristotle? Aristotle will be of no use to U wh...\n",
      "379987            What is it like to have sex with your mom?\n",
      "463590     Why is my friend saying \"Islam is like last st...\n",
      "Name: question_text, dtype: object\n"
     ]
    }
   ],
   "source": [
    "vect = CountVectorizer()\n",
    "token_test(vect)"
   ]
  },
  {
   "cell_type": "markdown",
   "metadata": {},
   "source": [
    "**NaiveBayes with no param tuning achieved .56 so that's a good starting point"
   ]
  },
  {
   "cell_type": "code",
   "execution_count": 12,
   "metadata": {},
   "outputs": [
    {
     "name": "stdout",
     "output_type": "stream",
     "text": [
      "Features Count:  320970\n",
      "Score in F1: 0.42\n",
      "false positives-----\n",
      "1101293    As a transgender teenager, are you discriminat...\n",
      "1229324    Why are so many people rejecting global cooper...\n",
      "82794      Which teacher would you prefer for English pra...\n",
      "884880     Why did Russia and China refuse to veto the in...\n",
      "404524          How can a 17 year old autistic kid get laid?\n",
      "Name: question_text, dtype: object\n",
      "\n",
      "false negatives-----\n",
      "1254445    Aristotle? Aristotle will be of no use to U wh...\n",
      "463590     Why is my friend saying \"Islam is like last st...\n",
      "1161336                How do I get hard and fast in school?\n",
      "674983     In the world there are 2 guns for every single...\n",
      "493647     Do Robert Kiyosaki and Donald Trump hurt their...\n",
      "Name: question_text, dtype: object\n"
     ]
    }
   ],
   "source": [
    "#vect = TfidfVectorizer(min_df=3, stop_words='english', ngram_range=(1,2))\n",
    "#vect = TfidfVectorizer()\n",
    "vect = TfidfVectorizer(norm=None, min_df=3, stop_words='english', ngram_range=(1,2))\n",
    "token_test(vect)"
   ]
  },
  {
   "cell_type": "markdown",
   "metadata": {},
   "source": [
    "## Modeling: Benchmark Score of Log Reg"
   ]
  },
  {
   "cell_type": "code",
   "execution_count": 13,
   "metadata": {},
   "outputs": [
    {
     "name": "stdout",
     "output_type": "stream",
     "text": [
      "Score : 0.51\n"
     ]
    }
   ],
   "source": [
    "from sklearn.linear_model import LogisticRegression\n",
    "vect = TfidfVectorizer(norm=None, min_df=3, stop_words='english', ngram_range=(1,2))\n",
    "X_train_dtm = vect.fit_transform(X_train)\n",
    "#learn the vocab of the training data and transform them into a document term matrix\n",
    "X_test_dtm = vect.transform(X_test)\n",
    "logreg = LogisticRegression()\n",
    "logreg.fit(X_train_dtm, y_train)\n",
    "#prediction from the classification\n",
    "y_pred = logreg.predict(X_test_dtm)\n",
    "print('Score :', '%.2f'%metrics.f1_score(y_test, y_pred))\n"
   ]
  },
  {
   "cell_type": "markdown",
   "metadata": {},
   "source": [
    "# EDA ..To be updated"
   ]
  },
  {
   "cell_type": "code",
   "execution_count": null,
   "metadata": {},
   "outputs": [],
   "source": []
  },
  {
   "cell_type": "code",
   "execution_count": null,
   "metadata": {},
   "outputs": [],
   "source": []
  },
  {
   "cell_type": "code",
   "execution_count": null,
   "metadata": {},
   "outputs": [],
   "source": []
  },
  {
   "cell_type": "code",
   "execution_count": 14,
   "metadata": {},
   "outputs": [],
   "source": [
    "#Final Submission Prep"
   ]
  },
  {
   "cell_type": "code",
   "execution_count": 15,
   "metadata": {
    "scrolled": true
   },
   "outputs": [
    {
     "name": "stdout",
     "output_type": "stream",
     "text": [
      "-------------------------\n",
      "(979591,)\n",
      "(326531,)\n",
      "(979591,)\n",
      "(326531,)\n"
     ]
    }
   ],
   "source": [
    "X = train['question_text']\n",
    "y = train['target']\n",
    "X_train, X_test, y_train, y_test = train_test_split(X, y, random_state=3)\n",
    "print('-'*25)\n",
    "print(X_train.shape)\n",
    "print(X_test.shape)\n",
    "print(y_train.shape)\n",
    "print(y_test.shape)"
   ]
  }
 ],
 "metadata": {
  "kernelspec": {
   "display_name": "Python 3",
   "language": "python",
   "name": "python3"
  },
  "language_info": {
   "codemirror_mode": {
    "name": "ipython",
    "version": 3
   },
   "file_extension": ".py",
   "mimetype": "text/x-python",
   "name": "python",
   "nbconvert_exporter": "python",
   "pygments_lexer": "ipython3",
   "version": "3.6.4"
  }
 },
 "nbformat": 4,
 "nbformat_minor": 2
}
